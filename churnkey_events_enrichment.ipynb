{
 "cells": [
  {
   "cell_type": "code",
   "execution_count": 1,
   "id": "initial_id",
   "metadata": {
    "collapsed": true,
    "ExecuteTime": {
     "end_time": "2023-12-17T09:54:12.099994953Z",
     "start_time": "2023-12-17T09:54:11.815464320Z"
    }
   },
   "outputs": [],
   "source": [
    "import boto3\n",
    "import pandas as pd\n",
    "import props\n",
    "import time\n",
    "import json\n",
    "import requests\n",
    "from dtypes import unlocks_dtypes, view_dtypes \n",
    "import numpy as np\n",
    "import math"
   ]
  },
  {
   "cell_type": "code",
   "execution_count": 2,
   "outputs": [],
   "source": [
    "\n",
    "athena = boto3.client(\"athena\")\n",
    "s3 = boto3.client(\"s3\")\n",
    "DATABASE_NAME = props.get(props.Key.DATABASE_NAME)\n",
    "SECRET_NAME = props.get(props.Key.SECRET_NAME)\n",
    "\n",
    "QUERY_RESULTS_S3_BUCKET = props.get(props.Key.QUERY_RESULTS_S3_BUCKET)\n",
    "QUERY_RESULTS_S3_LOCATION = props.get(props.Key.QUERY_RESULTS_S3_LOCATION)\n",
    "START_DATE='2023-07-12'\n",
    "\n",
    "session = boto3.session.Session()\n",
    "secretsmanager_client = session.client('secretsmanager')\n",
    "\n",
    "# Retrieve the value of the secret of DB connection \n",
    "# secret_dict = secretsmanager_client.get_secret_value(SecretId=DB_SECRET_NAME)\n",
    "secret_dict = secretsmanager_client.get_secret_value(SecretId=SECRET_NAME)\n",
    "churnkey_secret = json.loads(secret_dict['SecretString'])\n",
    "\n"
   ],
   "metadata": {
    "collapsed": false,
    "ExecuteTime": {
     "end_time": "2023-12-17T09:54:15.036049088Z",
     "start_time": "2023-12-17T09:54:14.113044269Z"
    }
   },
   "id": "cd18b7c957d1e2e9"
  },
  {
   "cell_type": "code",
   "execution_count": 3,
   "outputs": [],
   "source": [
    "def execute_athena_query(query, table):\n",
    "    response = athena.start_query_execution(\n",
    "        QueryString=query,\n",
    "        QueryExecutionContext={\"Database\": f\"{DATABASE_NAME}\"},\n",
    "        ResultConfiguration={\"OutputLocation\": QUERY_RESULTS_S3_LOCATION + f'{table}'},\n",
    "    )\n",
    "\n",
    "    query_execution_id = response[\"QueryExecutionId\"]\n",
    "    # Wait for the query result\n",
    "    done = False\n",
    "    while not done:\n",
    "        status_response = athena.get_query_execution(\n",
    "            QueryExecutionId=query_execution_id\n",
    "        )\n",
    "        status = status_response[\"QueryExecution\"][\"Status\"][\"State\"]\n",
    "        print(f\"Query status: {status}\")\n",
    "        if status == \"QUEUED\" or status == \"RUNNING\":\n",
    "            time.sleep(1)\n",
    "        elif status == \"FAILED\":\n",
    "            error_message = status_response[\"QueryExecution\"][\"Status\"][\n",
    "                \"StateChangeReason\"\n",
    "            ]\n",
    "            print(\"Query failed: {}\".format(error_message))\n",
    "            raise Exception(\"Query status is FAILED\")\n",
    "        else:\n",
    "            done = True\n",
    "    query_execution_id += '.csv'\n",
    "    print(f\"query_execution_id = {query_execution_id}\")\n",
    "\n",
    "    # print(query)\n",
    "    res = s3.get_object(Bucket=QUERY_RESULTS_S3_BUCKET, Key=f'reporting/{table}/' + query_execution_id)\n",
    "    df = pd.read_csv(res['Body'])\n",
    "\n",
    "    return df\n"
   ],
   "metadata": {
    "collapsed": false,
    "ExecuteTime": {
     "end_time": "2023-12-17T09:54:17.647876600Z",
     "start_time": "2023-12-17T09:54:17.628303062Z"
    }
   },
   "id": "adf6334b8a49ae3e"
  },
  {
   "cell_type": "code",
   "execution_count": 14,
   "outputs": [],
   "source": [
    "unlocks_query = f\"\"\"\n",
    "WITH solution_manuals_unlocks AS (\n",
    "\tSELECT balance_id,\n",
    "\t\tuser_id,\n",
    "\t\tMIN(bc.created_at) as created_at,\n",
    "\t\t'SOLUTION_MANUAL' AS content_type\n",
    "\tFROM \"{DATABASE_NAME}\".\"balance_chapter\" bc\n",
    "\t    INNER JOIN \"{DATABASE_NAME}\".\"balance\" b ON bc.balance_id = b.id \n",
    "\tWHERE content_set_type = 'SOLUTION_MANUAL'\n",
    "\tGROUP BY balance_id, user_id, content_set_id\n",
    "),\n",
    "quiz_unlocks AS (\n",
    "\tSELECT balance_id,\n",
    "\t\tuser_id,\n",
    "\t\tbc.created_at,\n",
    "\t\t'QUIZ' AS content_type\n",
    "\tFROM \"{DATABASE_NAME}\".\"balance_chapter\" bc\n",
    "\t    INNER JOIN \"{DATABASE_NAME}\".\"balance\" b ON bc.balance_id = b.id \n",
    "\tWHERE content_set_type <> 'SOLUTION_MANUAL'\n",
    "),\n",
    "stripe_subscripers AS (\n",
    "\tSELECT DISTINCT user_id, customer_id\n",
    "\tFROM \"{DATABASE_NAME}\".\"subscription\" s\n",
    "\tWHERE s.gateway = 'STRIPE'\n",
    ")\n",
    "\n",
    "SELECT \n",
    "    'Content Unlocked' AS event,\n",
    "\tx.user_id AS uid,\n",
    "\ts.customer_id AS customerId,\n",
    "\tx.created_at AS eventDate\n",
    "FROM (\n",
    "\t\t( SELECT * FROM solution_manuals_unlocks )\n",
    "\t\tUNION ALL\n",
    "\t\t( SELECT * FROM quiz_unlocks )\n",
    "\t) x\n",
    "\tINNER JOIN stripe_subscripers s ON x.user_id = s.user_id\n",
    "WHERE x.created_at > DATE('{START_DATE}')\n",
    "ORDER BY balance_id, content_type, x.created_at;\n",
    "\"\"\"\n",
    "\n",
    "views_query = f\"\"\"\n",
    "SELECT \n",
    "\tIF(weight = 10, 'Answer Viewed', 'Question Viewed') AS event,\n",
    "\tte.user_id AS uid,\n",
    "\tcustomer_id AS customerId,\n",
    "\tcreated_at AS eventDate\n",
    "FROM \"{DATABASE_NAME}\".\"tracking-events\" te\n",
    "\tINNER JOIN ( SELECT DISTINCT user_id, customer_id FROM \"{DATABASE_NAME}\".\"subscription\" WHERE gateway = 'STRIPE' ) s \n",
    "\t    ON te.user_id = s.user_id\n",
    "WHERE te.action <> 'SEARCH' AND te.question_id IS NOT NULL\n",
    "ORDER BY te.created_at;\n",
    "\"\"\""
   ],
   "metadata": {
    "collapsed": false,
    "ExecuteTime": {
     "end_time": "2023-12-17T10:22:10.145005668Z",
     "start_time": "2023-12-17T10:22:10.058061424Z"
    }
   },
   "id": "9ea6d0edd2dbd364"
  },
  {
   "cell_type": "code",
   "execution_count": 8,
   "outputs": [
    {
     "name": "stdout",
     "output_type": "stream",
     "text": [
      "\n",
      "WITH solution_manuals_unlocks AS (\n",
      "\tSELECT balance_id,\n",
      "\t\tuser_id,\n",
      "\t\tMIN(bc.created_at) as created_at,\n",
      "\t\t'SOLUTION_MANUAL' AS content_type\n",
      "\tFROM \"dev-warehouse\".\"balance_chapter\" bc\n",
      "\t    INNER JOIN \"dev-warehouse\".\"balance\" b ON bc.balance_id = b.id \n",
      "\tWHERE content_set_type = 'SOLUTION_MANUAL'\n",
      "\tGROUP BY balance_id, user_id, content_set_id\n",
      "),\n",
      "quiz_unlocks AS (\n",
      "\tSELECT balance_id,\n",
      "\t\tuser_id,\n",
      "\t\tchapter_id AS content_id,\n",
      "\t\tbc.created_at,\n",
      "\t\t'QUIZ' AS content_type,\n",
      "\tFROM \"dev-warehouse\".\"balance_chapter\" bc\n",
      "\t    INNER JOIN \"dev-warehouse\".\"balance\" b ON bc.balance_id = b.id \n",
      "\tWHERE content_set_type <> 'SOLUTION_MANUAL'\n",
      "),\n",
      "stripe_subscripers AS (\n",
      "\tSELECT DISTINCT user_id, customer_id\n",
      "\tFROM \"dev-warehouse\".\"subscription\" s\n",
      "\tWHERE s.gateway = 'STRIPE'\n",
      ")\n",
      "\n",
      "SELECT \n",
      "    'Content Unlocked' AS event,\n",
      "\tx.user_id AS uid,\n",
      "\ts.customer_id AS customerId,\n",
      "\tx.created_at AS eventDate\n",
      "FROM (\n",
      "\t\t( SELECT * FROM solution_manuals_unlocks )\n",
      "\t\tUNION ALL\n",
      "\t\t( SELECT * FROM quiz_unlocks )\n",
      "\t) x\n",
      "\tINNER JOIN stripe_subscripers s ON x.user_id = s.user_id\n",
      "WHERE x.created_at > DATE('2023-07-20')\n",
      "ORDER BY balance_id, content_type, x.created_at;\n"
     ]
    }
   ],
   "source": [
    "print(unlocks_query)"
   ],
   "metadata": {
    "collapsed": false,
    "ExecuteTime": {
     "end_time": "2023-12-17T10:17:56.980576160Z",
     "start_time": "2023-12-17T10:17:56.886255116Z"
    }
   },
   "id": "7fdc9dbb9ba12f6a"
  },
  {
   "cell_type": "code",
   "execution_count": 15,
   "outputs": [
    {
     "name": "stdout",
     "output_type": "stream",
     "text": [
      "Query status: QUEUED\n",
      "Query status: RUNNING\n",
      "Query status: SUCCEEDED\n",
      "query_execution_id = 64fc02d2-a949-4c2c-8f8d-31945700e78b.csv\n",
      "Query status: QUEUED\n",
      "Query status: RUNNING\n",
      "Query status: RUNNING\n",
      "Query status: SUCCEEDED\n",
      "query_execution_id = 4a52cdf2-a4bd-478a-809e-808c92b3739a.csv\n"
     ]
    }
   ],
   "source": [
    "unlocks_df = execute_athena_query(unlocks_query, 'unlocks_events')\n",
    "unlocks_df = unlocks_df.astype({x: unlocks_dtypes[x] for x in unlocks_df.columns})\n",
    "unlocks_df['eventDate'] = pd.to_datetime(unlocks_df['eventDate'])\n",
    "views_df = execute_athena_query(views_query, 'view_events')\n",
    "views_df = views_df.astype({x: view_dtypes[x] for x in views_df.columns})\n",
    "views_df['eventDate'] = pd.to_datetime(views_df['eventDate'])\n"
   ],
   "metadata": {
    "collapsed": false,
    "ExecuteTime": {
     "end_time": "2023-12-17T10:22:25.650494964Z",
     "start_time": "2023-12-17T10:22:15.317593319Z"
    }
   },
   "id": "5380c596be807f35"
  },
  {
   "cell_type": "code",
   "execution_count": 16,
   "outputs": [],
   "source": [
    "# views_agg = views_df[['event', 'uid', 'customerId', 'eventDate']].assign(Aggregated_Data=views_df.set_index(['event', 'uid', 'customerId', 'eventDate']).to_dict(orient='records'))\n",
    "# unlocks_agg = unlocks_df[['event', 'uid', 'customerId', 'eventDate']].assign(Aggregated_Data=unlocks_df.set_index(['event', 'uid', 'customerId', 'eventDate']).to_dict(orient='records'))\n",
    "\n",
    "views_agg = views_df\n",
    "unlocks_agg = unlocks_df\n",
    "df = pd.concat([views_agg, unlocks_agg]).sort_values(by=[\"eventDate\"], ascending=True).reset_index(drop=True)\n",
    "# df = df.rename(columns={'Aggregated_Data': \"eventData\" })\n",
    "df = df.astype({\"eventDate\": str})"
   ],
   "metadata": {
    "collapsed": false,
    "ExecuteTime": {
     "end_time": "2023-12-17T10:23:48.494596056Z",
     "start_time": "2023-12-17T10:23:48.452908556Z"
    }
   },
   "id": "a07fb3264eef45ee"
  },
  {
   "cell_type": "code",
   "execution_count": 17,
   "outputs": [
    {
     "data": {
      "text/plain": "event                 object\nuid                    int64\ncustomerId            object\neventDate     datetime64[ns]\ndtype: object"
     },
     "execution_count": 17,
     "metadata": {},
     "output_type": "execute_result"
    }
   ],
   "source": [
    "unlocks_df.dtypes"
   ],
   "metadata": {
    "collapsed": false,
    "ExecuteTime": {
     "end_time": "2023-12-17T10:23:51.151804806Z",
     "start_time": "2023-12-17T10:23:51.131977295Z"
    }
   },
   "id": "35d44d96d9234297"
  },
  {
   "cell_type": "code",
   "execution_count": 33,
   "outputs": [
    {
     "data": {
      "text/plain": "          uid  contentId  used total  usagePercentage           eventDate  \\\n11142  146881       1882     1     3        33.333333 2023-10-05 13:11:26   \n11143  146880       1880     1    28         3.571429 2023-10-05 13:19:37   \n11144  146880       2380     2    28         7.142857 2023-10-05 13:19:53   \n11137  146859       2380     1    53         1.886792 2023-10-05 05:38:35   \n11138  146859       2381     2    53         3.773585 2023-10-05 05:38:48   \n...       ...        ...   ...   ...              ...                 ...   \n15     116701     222641    37   216        17.129630 2023-11-27 10:02:54   \n16     116701     222642    38   216        17.592593 2023-11-27 10:02:54   \n17     116701     222643    39   216        18.055556 2023-11-27 10:02:54   \n18     116701     222644    40   216        18.518519 2023-11-27 10:02:54   \n88     103729       4963   131   356        36.797753 2023-11-07 09:25:00   \n\n      contentType  \n11142        QUIZ  \n11143        QUIZ  \n11144        QUIZ  \n11137        QUIZ  \n11138        QUIZ  \n...           ...  \n15           QUIZ  \n16           QUIZ  \n17           QUIZ  \n18           QUIZ  \n88           QUIZ  \n\n[11149 rows x 7 columns]",
      "text/html": "<div>\n<style scoped>\n    .dataframe tbody tr th:only-of-type {\n        vertical-align: middle;\n    }\n\n    .dataframe tbody tr th {\n        vertical-align: top;\n    }\n\n    .dataframe thead th {\n        text-align: right;\n    }\n</style>\n<table border=\"1\" class=\"dataframe\">\n  <thead>\n    <tr style=\"text-align: right;\">\n      <th></th>\n      <th>uid</th>\n      <th>contentId</th>\n      <th>used</th>\n      <th>total</th>\n      <th>usagePercentage</th>\n      <th>eventDate</th>\n      <th>contentType</th>\n    </tr>\n  </thead>\n  <tbody>\n    <tr>\n      <th>11142</th>\n      <td>146881</td>\n      <td>1882</td>\n      <td>1</td>\n      <td>3</td>\n      <td>33.333333</td>\n      <td>2023-10-05 13:11:26</td>\n      <td>QUIZ</td>\n    </tr>\n    <tr>\n      <th>11143</th>\n      <td>146880</td>\n      <td>1880</td>\n      <td>1</td>\n      <td>28</td>\n      <td>3.571429</td>\n      <td>2023-10-05 13:19:37</td>\n      <td>QUIZ</td>\n    </tr>\n    <tr>\n      <th>11144</th>\n      <td>146880</td>\n      <td>2380</td>\n      <td>2</td>\n      <td>28</td>\n      <td>7.142857</td>\n      <td>2023-10-05 13:19:53</td>\n      <td>QUIZ</td>\n    </tr>\n    <tr>\n      <th>11137</th>\n      <td>146859</td>\n      <td>2380</td>\n      <td>1</td>\n      <td>53</td>\n      <td>1.886792</td>\n      <td>2023-10-05 05:38:35</td>\n      <td>QUIZ</td>\n    </tr>\n    <tr>\n      <th>11138</th>\n      <td>146859</td>\n      <td>2381</td>\n      <td>2</td>\n      <td>53</td>\n      <td>3.773585</td>\n      <td>2023-10-05 05:38:48</td>\n      <td>QUIZ</td>\n    </tr>\n    <tr>\n      <th>...</th>\n      <td>...</td>\n      <td>...</td>\n      <td>...</td>\n      <td>...</td>\n      <td>...</td>\n      <td>...</td>\n      <td>...</td>\n    </tr>\n    <tr>\n      <th>15</th>\n      <td>116701</td>\n      <td>222641</td>\n      <td>37</td>\n      <td>216</td>\n      <td>17.129630</td>\n      <td>2023-11-27 10:02:54</td>\n      <td>QUIZ</td>\n    </tr>\n    <tr>\n      <th>16</th>\n      <td>116701</td>\n      <td>222642</td>\n      <td>38</td>\n      <td>216</td>\n      <td>17.592593</td>\n      <td>2023-11-27 10:02:54</td>\n      <td>QUIZ</td>\n    </tr>\n    <tr>\n      <th>17</th>\n      <td>116701</td>\n      <td>222643</td>\n      <td>39</td>\n      <td>216</td>\n      <td>18.055556</td>\n      <td>2023-11-27 10:02:54</td>\n      <td>QUIZ</td>\n    </tr>\n    <tr>\n      <th>18</th>\n      <td>116701</td>\n      <td>222644</td>\n      <td>40</td>\n      <td>216</td>\n      <td>18.518519</td>\n      <td>2023-11-27 10:02:54</td>\n      <td>QUIZ</td>\n    </tr>\n    <tr>\n      <th>88</th>\n      <td>103729</td>\n      <td>4963</td>\n      <td>131</td>\n      <td>356</td>\n      <td>36.797753</td>\n      <td>2023-11-07 09:25:00</td>\n      <td>QUIZ</td>\n    </tr>\n  </tbody>\n</table>\n<p>11149 rows × 7 columns</p>\n</div>"
     },
     "execution_count": 33,
     "metadata": {},
     "output_type": "execute_result"
    }
   ],
   "source": [
    "unlocks_df.sort_values(by=[\"uid\", \"contentType\", \"eventDate\"], ascending=[False, False, True])[[\"uid\", \"contentId\", \"used\", \"total\", \"usagePercentage\", \"eventDate\", \"contentType\"]]"
   ],
   "metadata": {
    "collapsed": false,
    "ExecuteTime": {
     "end_time": "2023-12-14T17:42:49.516358042Z",
     "start_time": "2023-12-14T17:42:49.431690449Z"
    }
   },
   "id": "8e46fba2dd1f9638"
  },
  {
   "cell_type": "code",
   "execution_count": null,
   "outputs": [
    {
     "name": "stderr",
     "output_type": "stream",
     "text": [
      "/home/diaa/scripts/churnkey_events/venv/lib/python3.10/site-packages/numpy/core/fromnumeric.py:59: FutureWarning: 'DataFrame.swapaxes' is deprecated and will be removed in a future version. Please use 'DataFrame.transpose' instead.\n",
      "  return bound(*args, **kwds)\n"
     ]
    },
    {
     "name": "stdout",
     "output_type": "stream",
     "text": [
      "0\n",
      "200\n",
      "{'status': 'success', 'event_count': 100, 'verified': True}\n",
      "1\n",
      "200\n",
      "{'status': 'success', 'event_count': 100, 'verified': True}\n",
      "2\n",
      "200\n",
      "{'status': 'success', 'event_count': 100, 'verified': True}\n",
      "3\n",
      "200\n",
      "{'status': 'success', 'event_count': 100, 'verified': True}\n",
      "4\n",
      "200\n",
      "{'status': 'success', 'event_count': 100, 'verified': True}\n",
      "5\n",
      "200\n",
      "{'status': 'success', 'event_count': 100, 'verified': True}\n",
      "6\n",
      "200\n",
      "{'status': 'success', 'event_count': 100, 'verified': True}\n",
      "7\n",
      "200\n",
      "{'status': 'success', 'event_count': 100, 'verified': True}\n",
      "8\n",
      "200\n",
      "{'status': 'success', 'event_count': 100, 'verified': True}\n",
      "9\n",
      "200\n",
      "{'status': 'success', 'event_count': 100, 'verified': True}\n",
      "10\n",
      "200\n",
      "{'status': 'success', 'event_count': 100, 'verified': True}\n",
      "11\n",
      "200\n",
      "{'status': 'success', 'event_count': 100, 'verified': True}\n",
      "12\n",
      "200\n",
      "{'status': 'success', 'event_count': 100, 'verified': True}\n",
      "13\n",
      "200\n",
      "{'status': 'success', 'event_count': 100, 'verified': True}\n",
      "14\n",
      "200\n",
      "{'status': 'success', 'event_count': 100, 'verified': True}\n",
      "15\n",
      "200\n",
      "{'status': 'success', 'event_count': 100, 'verified': True}\n",
      "16\n",
      "200\n",
      "{'status': 'success', 'event_count': 100, 'verified': True}\n",
      "17\n",
      "200\n",
      "{'status': 'success', 'event_count': 100, 'verified': True}\n",
      "18\n",
      "200\n",
      "{'status': 'success', 'event_count': 100, 'verified': True}\n",
      "19\n",
      "200\n",
      "{'status': 'success', 'event_count': 100, 'verified': True}\n",
      "20\n",
      "200\n",
      "{'status': 'success', 'event_count': 100, 'verified': True}\n",
      "21\n",
      "200\n",
      "{'status': 'success', 'event_count': 100, 'verified': True}\n",
      "22\n",
      "200\n",
      "{'status': 'success', 'event_count': 100, 'verified': True}\n",
      "23\n",
      "200\n",
      "{'status': 'success', 'event_count': 100, 'verified': True}\n",
      "24\n",
      "200\n",
      "{'status': 'success', 'event_count': 100, 'verified': True}\n",
      "25\n",
      "200\n",
      "{'status': 'success', 'event_count': 100, 'verified': True}\n",
      "26\n",
      "200\n",
      "{'status': 'success', 'event_count': 100, 'verified': True}\n",
      "27\n",
      "200\n",
      "{'status': 'success', 'event_count': 100, 'verified': True}\n",
      "28\n",
      "200\n",
      "{'status': 'success', 'event_count': 100, 'verified': True}\n",
      "29\n",
      "200\n",
      "{'status': 'success', 'event_count': 100, 'verified': True}\n",
      "30\n",
      "200\n",
      "{'status': 'success', 'event_count': 100, 'verified': True}\n",
      "31\n",
      "200\n",
      "{'status': 'success', 'event_count': 100, 'verified': True}\n",
      "32\n",
      "200\n",
      "{'status': 'success', 'event_count': 100, 'verified': True}\n",
      "33\n"
     ]
    }
   ],
   "source": [
    "headers = {\n",
    "    \"x-ck-api-key\": churnkey_secret[\"secret\"],\n",
    "    \"x-ck-app\": churnkey_secret[\"ck_app_id\"],\n",
    "}\n",
    "\n",
    "chunks = np.array_split(df, math.ceil(len(df) / 100))\n",
    "for ind, chunk in enumerate(chunks):\n",
    "    print(ind)\n",
    "    # event_body = df[[\"event\", \"uid\", \"customerId\", 'eventDate']].loc[:50].to_dict('records')\n",
    "    event_body = chunk.to_dict('records')\n",
    "    # print(headers)\n",
    "    # break\n",
    "    response = requests.post(\"https://api.churnkey.co/v1/api/events/bulk\", json=event_body, headers=headers)\n",
    "    print(response.status_code)\n",
    "    print(response.json())\n",
    "    \n"
   ],
   "metadata": {
    "collapsed": false,
    "is_executing": true,
    "ExecuteTime": {
     "start_time": "2023-12-17T10:55:13.095385701Z"
    }
   },
   "id": "b1b9a88a13340046"
  }
 ],
 "metadata": {
  "kernelspec": {
   "display_name": "Python 3",
   "language": "python",
   "name": "python3"
  },
  "language_info": {
   "codemirror_mode": {
    "name": "ipython",
    "version": 2
   },
   "file_extension": ".py",
   "mimetype": "text/x-python",
   "name": "python",
   "nbconvert_exporter": "python",
   "pygments_lexer": "ipython2",
   "version": "2.7.6"
  }
 },
 "nbformat": 4,
 "nbformat_minor": 5
}
